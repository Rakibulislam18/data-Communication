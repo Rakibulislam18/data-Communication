{
 "cells": [
  {
   "cell_type": "code",
   "execution_count": 8,
   "id": "278c6f27",
   "metadata": {},
   "outputs": [],
   "source": [
    "import numpy as np\n",
    "import matplotlib.pyplot as plt"
   ]
  },
  {
   "cell_type": "code",
   "execution_count": 9,
   "id": "dce03c6e",
   "metadata": {},
   "outputs": [
    {
     "data": {
      "image/png": "[encoded data removed]",
      "text/plain": [
       "<Figure size 432x288 with 1 Axes>"
      ]
     },
     "metadata": {
      "needs_background": "light"
     },
     "output_type": "display_data"
    }
   ],
   "source": [
    "#NRZ - i\n",
    "\n",
    "data_modified = [0,1,1,0,1,0,1,0,1,0,1]\n",
    "\n",
    "time = np.arange(0, len(data_modified))\n",
    "\n",
    "for i in range(len(data_modified)):\n",
    "    if i == 0 and data_modified[i] == 0:\n",
    "        data_modified[i] = -1\n",
    "    if i>0 and data_modified[i] == 1:\n",
    "        if data_modified[i-1] == 1:\n",
    "            data_modified[i] = -1\n",
    "        else:\n",
    "            data_modified[i] = 1\n",
    "    if data_modified[i] == 0 and i>0:\n",
    "        data_modified[i] = data_modified[i-1] \n",
    "\n",
    "plt.step(time, data_modified, where='mid')\n",
    "plt.grid()\n",
    "plt.show()"
   ]
  },
  {
   "cell_type": "code",
   "execution_count": null,
   "id": "d5cd8c1a",
   "metadata": {},
   "outputs": [],
   "source": []
  }
 ],
 "metadata": {
  "kernelspec": {
   "display_name": "Python 3 (ipykernel)",
   "language": "python",
   "name": "python3"
  },
  "language_info": {
   "codemirror_mode": {
    "name": "ipython",
    "version": 3
   },
   "file_extension": ".py",
   "mimetype": "text/x-python",
   "name": "python",
   "nbconvert_exporter": "python",
   "pygments_lexer": "ipython3",
   "version": "3.8.10"
  }
 },
 "nbformat": 4,
 "nbformat_minor": 5
}
